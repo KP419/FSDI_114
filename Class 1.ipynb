{
 "cells": [
  {
   "cell_type": "code",
   "execution_count": 1,
   "id": "a73e17e0-dca6-4c60-8428-c0c7e2f901f4",
   "metadata": {},
   "outputs": [
    {
     "name": "stdout",
     "output_type": "stream",
     "text": [
      "h\n",
      "e\n",
      "l\n",
      "l\n",
      "o\n",
      ",\n",
      " \n",
      "w\n",
      "o\n",
      "r\n",
      "l\n",
      "d\n",
      "!\n"
     ]
    }
   ],
   "source": [
    "for char in \"hello, world!\":\n",
    "    print(char)\n",
    "    \n",
    "\n",
    "\n"
   ]
  },
  {
   "cell_type": "markdown",
   "id": "dee79ac1-d19c-4498-9502-1055292ab5a6",
   "metadata": {},
   "source": [
    "# Problem 1 \n",
    "## Anagram check\n",
    "Given two strings as inputs to your function, determine if these are anagrams of each other. Return `True` if they are, `False` otherwise.\n",
    "\n",
    "### Criteria \n",
    "Two strings are anagrams if all the criteria below are met:\n",
    "1. They must be of equal length.\n",
    "2. they must use the same letters, the same amount of times.\n",
    "\n",
    "```\n",
    "Examples:\n",
    "anagram_check(\"heart\", \"earth\") should return True\n",
    "anagram_check(\"scar\", \"cars\") should return True\n",
    "anagram_check(\"star\", \"rats\") should return True\n",
    "anagram_check(\"aaab\", \"aabb\") should return False\n"
   ]
  },
  {
   "cell_type": "code",
   "execution_count": 5,
   "id": "1a3c43ae-96b0-4d9a-ba30-8bd640502477",
   "metadata": {},
   "outputs": [],
   "source": [
    "# this code will determine if the anagrams of each other Return True if they are, False otherwise\n",
    "\n",
    "# examples anagram_check(\"heart\", \"earth\") True\n",
    "# examples anagram_check(\"aaab\", \"aabb\") False\n",
    "\n",
    "# they must be eaual legnth \n",
    "# they must use the same letters \n",
    "# they must have the same amount of times ie aabb abba\n"
   ]
  },
  {
   "cell_type": "code",
   "execution_count": null,
   "id": "b56c0dd2-39ff-43db-9326-d05f658595f8",
   "metadata": {},
   "outputs": [],
   "source": [
    "\n",
    "    "
   ]
  }
 ],
 "metadata": {
  "kernelspec": {
   "display_name": "Python 3 (ipykernel)",
   "language": "python",
   "name": "python3"
  },
  "language_info": {
   "codemirror_mode": {
    "name": "ipython",
    "version": 3
   },
   "file_extension": ".py",
   "mimetype": "text/x-python",
   "name": "python",
   "nbconvert_exporter": "python",
   "pygments_lexer": "ipython3",
   "version": "3.12.2"
  }
 },
 "nbformat": 4,
 "nbformat_minor": 5
}
