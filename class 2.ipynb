{
 "cells": [
  {
   "cell_type": "code",
   "execution_count": 6,
   "id": "8dbb4cde-1a71-4348-ab7c-8a66b2622132",
   "metadata": {},
   "outputs": [],
   "source": [
    "# Simplified implementation of Stack (using built-ins)\n",
    "\n",
    "class Stack:\n",
    "    def __init__(self):\n",
    "        self.items = []\n",
    "    \n",
    "    def push(self,vaule):\n",
    "        self.items.append(vaule)\n",
    "\n",
    "    \n",
    "    def pop(self):\n",
    "        return self.items.pop()\n",
    "\n",
    "    #nice to have methods\n",
    "    def size(self):\n",
    "        return len(self.items)\n",
    "\n",
    "    def peek(self):\n",
    "        return self.items [len(self.items)-1]\n",
    "\n",
    "    def is_empty(self):\n",
    "        return self.items == []"
   ]
  },
  {
   "cell_type": "code",
   "execution_count": 17,
   "id": "9c84414c-b6c3-4131-8c09-80cb6fb95087",
   "metadata": {},
   "outputs": [
    {
     "data": {
      "text/plain": [
       "'yroK'"
      ]
     },
     "execution_count": 17,
     "metadata": {},
     "output_type": "execute_result"
    }
   ],
   "source": [
    "def invert_str(somestring):\n",
    "    stack = Stack()\n",
    "    for char in somestring:\n",
    "        stack.push(char)\n",
    "    out = \"\"\n",
    "    while not stack.is_empty():\n",
    "        out += stack.pop()\n",
    "    return out\n",
    "\n",
    "invert_str(\"Kory\")"
   ]
  },
  {
   "cell_type": "code",
   "execution_count": 21,
   "id": "b0021300-b66b-4900-b5f3-afb006a3d3cf",
   "metadata": {},
   "outputs": [
    {
     "name": "stdout",
     "output_type": "stream",
     "text": [
      "4355463456\n",
      "4355463488\n"
     ]
    }
   ],
   "source": [
    "x = 5 \n",
    "y = x\n",
    "x += 1\n",
    "\n",
    "print(id(y))\n",
    "print(id(x))"
   ]
  },
  {
   "cell_type": "code",
   "execution_count": 19,
   "id": "132eb85e-5404-44b4-ac5f-ad36f39a2ab1",
   "metadata": {},
   "outputs": [
    {
     "name": "stdout",
     "output_type": "stream",
     "text": [
      "6\n"
     ]
    }
   ],
   "source": [
    "x = 5 \n",
    "y = x\n",
    "x += 1\n",
    "\n",
    "print(x)"
   ]
  },
  {
   "cell_type": "code",
   "execution_count": 20,
   "id": "2053e249-8aac-4a1b-ac66-d901a3aee3d3",
   "metadata": {},
   "outputs": [
    {
     "name": "stdout",
     "output_type": "stream",
     "text": [
      "[1, 2, 3, 4]\n"
     ]
    }
   ],
   "source": [
    "x = [1,2,3]\n",
    "y = x\n",
    "y.append(4)\n",
    "\n",
    "print (x)"
   ]
  },
  {
   "cell_type": "code",
   "execution_count": null,
   "id": "b7ccbc7b-0753-4541-8096-6f613456a8cf",
   "metadata": {},
   "outputs": [],
   "source": [
    "class StackII:\n",
    "   class Node:\n",
    "       def __init__(self, data):\n",
    "           self.data = data\n",
    "           self.below = None\n",
    "\n",
    "   def __init__(self):\n",
    "       self.top = None\n",
    "\n",
    "   def push(self, value):\n",
    "       new_node == self.__Node(value)\n",
    "       if not self.top: # this is the same as if self.top == None\n",
    "           self.top = new_node\n",
    "       else:\n",
    "           new_node.below = self.top\n",
    "           self.top = new_node\n",
    "\n",
    "   def pop(self):\n",
    "       if self.top:\n",
    "           datum = self.top.data\n",
    "           self.top = self.top.below\n",
    "           return datum\n",
    "        raise IndexError(\"Stack is empty\")\n",
    "\n",
    "   # nice to have methods\n",
    "   def size(self):\n",
    "       pass\n",
    "\n",
    "   def peek(self):\n",
    "       pass\n",
    "\n",
    "   def is_empty(self):\n",
    "       return self.top == None"
   ]
  },
  {
   "cell_type": "markdown",
   "id": "ece843ee-12ee-4c09-87e4-906b642748b4",
   "metadata": {},
   "source": [
    "# What are we pushing a new node\n",
    "# What are we pop  \n",
    "# What is the size \n",
    "# What is peek \n",
    "# What will be is_empty "
   ]
  }
 ],
 "metadata": {
  "kernelspec": {
   "display_name": "Python 3 (ipykernel)",
   "language": "python",
   "name": "python3"
  },
  "language_info": {
   "codemirror_mode": {
    "name": "ipython",
    "version": 3
   },
   "file_extension": ".py",
   "mimetype": "text/x-python",
   "name": "python",
   "nbconvert_exporter": "python",
   "pygments_lexer": "ipython3",
   "version": "3.12.2"
  }
 },
 "nbformat": 4,
 "nbformat_minor": 5
}
